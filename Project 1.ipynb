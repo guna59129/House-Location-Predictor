{
 "cells": [
  {
   "cell_type": "code",
   "execution_count": 2,
   "id": "dd584ccf",
   "metadata": {},
   "outputs": [],
   "source": [
    "import numpy as np\n",
    "import pandas as pd\n",
    "import sklearn\n",
    "import matplotlib.pyplot as plt"
   ]
  },
  {
   "cell_type": "code",
   "execution_count": 3,
   "id": "b6a7f2fc",
   "metadata": {},
   "outputs": [],
   "source": [
    "ds=pd.read_csv(r\"C:\\Users\\guna5\\OneDrive\\Desktop\\DATASET\\housing.csv\")"
   ]
  },
  {
   "cell_type": "code",
   "execution_count": 4,
   "id": "9feb55e7",
   "metadata": {},
   "outputs": [
    {
     "name": "stdout",
     "output_type": "stream",
     "text": [
      "   longitude  latitude  housing_median_age  total_rooms  total_bedrooms  \\\n",
      "0    -122.23     37.88                41.0        880.0           129.0   \n",
      "1    -122.22     37.86                21.0       7099.0          1106.0   \n",
      "2    -122.24     37.85                52.0       1467.0           190.0   \n",
      "3    -122.25     37.85                52.0       1274.0           235.0   \n",
      "4    -122.25     37.85                52.0       1627.0           280.0   \n",
      "\n",
      "   population  households  median_income  median_house_value ocean_proximity  \n",
      "0       322.0       126.0         8.3252            452600.0        NEAR BAY  \n",
      "1      2401.0      1138.0         8.3014            358500.0        NEAR BAY  \n",
      "2       496.0       177.0         7.2574            352100.0        NEAR BAY  \n",
      "3       558.0       219.0         5.6431            341300.0        NEAR BAY  \n",
      "4       565.0       259.0         3.8462            342200.0        NEAR BAY  \n"
     ]
    }
   ],
   "source": [
    "df=pd.DataFrame(ds)\n",
    "print(df.head())"
   ]
  },
  {
   "cell_type": "code",
   "execution_count": 5,
   "id": "4540c476",
   "metadata": {},
   "outputs": [
    {
     "name": "stdout",
     "output_type": "stream",
     "text": [
      "<class 'pandas.core.frame.DataFrame'>\n",
      "RangeIndex: 20640 entries, 0 to 20639\n",
      "Data columns (total 10 columns):\n",
      " #   Column              Non-Null Count  Dtype  \n",
      "---  ------              --------------  -----  \n",
      " 0   longitude           20640 non-null  float64\n",
      " 1   latitude            20640 non-null  float64\n",
      " 2   housing_median_age  20640 non-null  float64\n",
      " 3   total_rooms         20640 non-null  float64\n",
      " 4   total_bedrooms      20433 non-null  float64\n",
      " 5   population          20640 non-null  float64\n",
      " 6   households          20640 non-null  float64\n",
      " 7   median_income       20640 non-null  float64\n",
      " 8   median_house_value  20640 non-null  float64\n",
      " 9   ocean_proximity     20640 non-null  object \n",
      "dtypes: float64(9), object(1)\n",
      "memory usage: 1.6+ MB\n",
      "None\n"
     ]
    }
   ],
   "source": [
    "print(df.info())"
   ]
  },
  {
   "cell_type": "code",
   "execution_count": 6,
   "id": "c4b9732b",
   "metadata": {},
   "outputs": [
    {
     "name": "stdout",
     "output_type": "stream",
     "text": [
      "(20640, 10)\n"
     ]
    }
   ],
   "source": [
    "print(df.shape)"
   ]
  },
  {
   "cell_type": "code",
   "execution_count": 7,
   "id": "84fe87a0",
   "metadata": {},
   "outputs": [
    {
     "name": "stdout",
     "output_type": "stream",
     "text": [
      "<class 'pandas.core.frame.DataFrame'>\n",
      "RangeIndex: 20640 entries, 0 to 20639\n",
      "Data columns (total 10 columns):\n",
      " #   Column              Non-Null Count  Dtype  \n",
      "---  ------              --------------  -----  \n",
      " 0   longitude           20640 non-null  float64\n",
      " 1   latitude            20640 non-null  float64\n",
      " 2   housing_median_age  20640 non-null  float64\n",
      " 3   total_rooms         20640 non-null  float64\n",
      " 4   total_bedrooms      20640 non-null  float64\n",
      " 5   population          20640 non-null  float64\n",
      " 6   households          20640 non-null  float64\n",
      " 7   median_income       20640 non-null  float64\n",
      " 8   median_house_value  20640 non-null  float64\n",
      " 9   ocean_proximity     20640 non-null  object \n",
      "dtypes: float64(9), object(1)\n",
      "memory usage: 1.6+ MB\n",
      "None\n"
     ]
    },
    {
     "name": "stderr",
     "output_type": "stream",
     "text": [
      "C:\\Users\\guna5\\AppData\\Local\\Temp\\ipykernel_12872\\2545296668.py:1: FutureWarning: The default value of numeric_only in DataFrame.mean is deprecated. In a future version, it will default to False. In addition, specifying 'numeric_only=None' is deprecated. Select only valid columns or specify the value of numeric_only to silence this warning.\n",
      "  df.fillna(df.mean(),inplace=True)\n"
     ]
    }
   ],
   "source": [
    "df.fillna(df.mean(),inplace=True)\n",
    "print(df.info())"
   ]
  },
  {
   "cell_type": "code",
   "execution_count": 8,
   "id": "9e2974e0",
   "metadata": {},
   "outputs": [
    {
     "name": "stdout",
     "output_type": "stream",
     "text": [
      "['NEAR BAY' 'NEAR BAY' 'NEAR BAY' ... 'INLAND' 'INLAND' 'INLAND']\n",
      "       longitude  latitude  housing_median_age  total_rooms  total_bedrooms  \\\n",
      "0        -122.23     37.88                41.0        880.0           129.0   \n",
      "1        -122.22     37.86                21.0       7099.0          1106.0   \n",
      "2        -122.24     37.85                52.0       1467.0           190.0   \n",
      "3        -122.25     37.85                52.0       1274.0           235.0   \n",
      "4        -122.25     37.85                52.0       1627.0           280.0   \n",
      "...          ...       ...                 ...          ...             ...   \n",
      "20635    -121.09     39.48                25.0       1665.0           374.0   \n",
      "20636    -121.21     39.49                18.0        697.0           150.0   \n",
      "20637    -121.22     39.43                17.0       2254.0           485.0   \n",
      "20638    -121.32     39.43                18.0       1860.0           409.0   \n",
      "20639    -121.24     39.37                16.0       2785.0           616.0   \n",
      "\n",
      "       population  households  median_income  median_house_value  \n",
      "0           322.0       126.0         8.3252            452600.0  \n",
      "1          2401.0      1138.0         8.3014            358500.0  \n",
      "2           496.0       177.0         7.2574            352100.0  \n",
      "3           558.0       219.0         5.6431            341300.0  \n",
      "4           565.0       259.0         3.8462            342200.0  \n",
      "...           ...         ...            ...                 ...  \n",
      "20635       845.0       330.0         1.5603             78100.0  \n",
      "20636       356.0       114.0         2.5568             77100.0  \n",
      "20637      1007.0       433.0         1.7000             92300.0  \n",
      "20638       741.0       349.0         1.8672             84700.0  \n",
      "20639      1387.0       530.0         2.3886             89400.0  \n",
      "\n",
      "[20640 rows x 9 columns]\n",
      "0        NEAR BAY\n",
      "1        NEAR BAY\n",
      "2        NEAR BAY\n",
      "3        NEAR BAY\n",
      "4        NEAR BAY\n",
      "           ...   \n",
      "20635      INLAND\n",
      "20636      INLAND\n",
      "20637      INLAND\n",
      "20638      INLAND\n",
      "20639      INLAND\n",
      "Name: ocean_proximity, Length: 20640, dtype: object\n"
     ]
    }
   ],
   "source": [
    "from sklearn.preprocessing import LabelEncoder\n",
    "le=LabelEncoder\n",
    "print(df['ocean_proximity'].values)\n",
    "x=ds.iloc[:,:-1]\n",
    "y=ds.iloc[:,-1]\n",
    "print(x)\n",
    "print(y)"
   ]
  },
  {
   "cell_type": "code",
   "execution_count": 9,
   "id": "ece0de42",
   "metadata": {},
   "outputs": [
    {
     "name": "stdout",
     "output_type": "stream",
     "text": [
      "       longitude  latitude  housing_median_age  total_rooms  total_bedrooms  \\\n",
      "1989     -119.79     36.73                52.0        112.0       28.000000   \n",
      "256      -122.21     37.77                43.0       1017.0      328.000000   \n",
      "7887     -118.04     33.87                17.0       2358.0      396.000000   \n",
      "4581     -118.28     34.06                17.0       2518.0     1196.000000   \n",
      "1993     -119.81     36.73                50.0        772.0      194.000000   \n",
      "...          ...       ...                 ...          ...             ...   \n",
      "13123    -121.26     38.27                20.0       1314.0      229.000000   \n",
      "19648    -120.89     37.48                27.0       1118.0      195.000000   \n",
      "9845     -121.90     36.58                31.0       1431.0      537.870553   \n",
      "10799    -117.93     33.62                34.0       2125.0      498.000000   \n",
      "2732     -115.56     32.80                15.0       1171.0      328.000000   \n",
      "\n",
      "       population  households  median_income  median_house_value  \n",
      "1989        193.0        40.0         1.9750             47500.0  \n",
      "256         836.0       277.0         2.2604            100000.0  \n",
      "7887       1387.0       364.0         6.2990            285800.0  \n",
      "4581       3051.0      1000.0         1.7199            175000.0  \n",
      "1993        606.0       167.0         2.2206             59200.0  \n",
      "...           ...         ...            ...                 ...  \n",
      "13123       712.0       219.0         4.4125            144600.0  \n",
      "19648       647.0       209.0         2.9135            159400.0  \n",
      "9845        704.0       393.0         3.1977            289300.0  \n",
      "10799      1052.0       468.0         5.6315            484600.0  \n",
      "2732       1024.0       298.0         1.3882             69400.0  \n",
      "\n",
      "[14448 rows x 9 columns]\n",
      "1989         INLAND\n",
      "256        NEAR BAY\n",
      "7887      <1H OCEAN\n",
      "4581      <1H OCEAN\n",
      "1993         INLAND\n",
      "            ...    \n",
      "13123        INLAND\n",
      "19648        INLAND\n",
      "9845     NEAR OCEAN\n",
      "10799     <1H OCEAN\n",
      "2732         INLAND\n",
      "Name: ocean_proximity, Length: 14448, dtype: object\n",
      "       longitude  latitude  housing_median_age  total_rooms  total_bedrooms  \\\n",
      "14740    -117.05     32.58                22.0       2101.0           399.0   \n",
      "10101    -117.97     33.92                32.0       2620.0           398.0   \n",
      "20566    -121.84     38.65                29.0       3167.0           548.0   \n",
      "2670     -115.60     33.20                37.0        709.0           187.0   \n",
      "15709    -122.43     37.79                25.0       1637.0           394.0   \n",
      "...          ...       ...                 ...          ...             ...   \n",
      "19681    -121.62     39.15                36.0       2321.0           455.0   \n",
      "12156    -117.17     33.66                 2.0       7401.0          1187.0   \n",
      "10211    -117.91     33.89                30.0       1631.0           212.0   \n",
      "2445     -119.64     36.56                34.0        576.0           117.0   \n",
      "17914    -121.99     37.36                32.0       1754.0           324.0   \n",
      "\n",
      "       population  households  median_income  median_house_value  \n",
      "14740      1551.0       371.0         4.1518            136900.0  \n",
      "10101      1296.0       429.0         5.7796            241300.0  \n",
      "20566      1554.0       534.0         4.3487            200700.0  \n",
      "2670        390.0       142.0         2.4511             72500.0  \n",
      "15709       649.0       379.0         5.0049            460000.0  \n",
      "...           ...         ...            ...                 ...  \n",
      "19681      1168.0       489.0         3.0962             74000.0  \n",
      "12156      2826.0       839.0         4.1386            177300.0  \n",
      "10211       523.0       216.0         7.8750            351900.0  \n",
      "2445        363.0        97.0         2.0658             92500.0  \n",
      "17914       917.0       330.0         4.6761            298300.0  \n",
      "\n",
      "[6192 rows x 9 columns]\n",
      "14740    NEAR OCEAN\n",
      "10101     <1H OCEAN\n",
      "20566        INLAND\n",
      "2670         INLAND\n",
      "15709      NEAR BAY\n",
      "            ...    \n",
      "19681        INLAND\n",
      "12156     <1H OCEAN\n",
      "10211     <1H OCEAN\n",
      "2445         INLAND\n",
      "17914     <1H OCEAN\n",
      "Name: ocean_proximity, Length: 6192, dtype: object\n"
     ]
    }
   ],
   "source": [
    "from sklearn.model_selection import train_test_split\n",
    "x_train,x_test,y_train,y_test=train_test_split(x,y,test_size=0.3,random_state=0)\n",
    "print(x_train)\n",
    "print(y_train)\n",
    "print(x_test)\n",
    "print(y_test)"
   ]
  },
  {
   "cell_type": "code",
   "execution_count": 10,
   "id": "87564a57",
   "metadata": {},
   "outputs": [
    {
     "name": "stdout",
     "output_type": "stream",
     "text": [
      "['NEAR BAY' '<1H OCEAN' 'INLAND' 'NEAR OCEAN' 'ISLAND']\n"
     ]
    }
   ],
   "source": [
    "print(df['ocean_proximity'].unique())"
   ]
  },
  {
   "cell_type": "code",
   "execution_count": 11,
   "id": "53189b32",
   "metadata": {},
   "outputs": [
    {
     "data": {
      "text/html": [
       "<style>#sk-container-id-1 {color: black;background-color: white;}#sk-container-id-1 pre{padding: 0;}#sk-container-id-1 div.sk-toggleable {background-color: white;}#sk-container-id-1 label.sk-toggleable__label {cursor: pointer;display: block;width: 100%;margin-bottom: 0;padding: 0.3em;box-sizing: border-box;text-align: center;}#sk-container-id-1 label.sk-toggleable__label-arrow:before {content: \"▸\";float: left;margin-right: 0.25em;color: #696969;}#sk-container-id-1 label.sk-toggleable__label-arrow:hover:before {color: black;}#sk-container-id-1 div.sk-estimator:hover label.sk-toggleable__label-arrow:before {color: black;}#sk-container-id-1 div.sk-toggleable__content {max-height: 0;max-width: 0;overflow: hidden;text-align: left;background-color: #f0f8ff;}#sk-container-id-1 div.sk-toggleable__content pre {margin: 0.2em;color: black;border-radius: 0.25em;background-color: #f0f8ff;}#sk-container-id-1 input.sk-toggleable__control:checked~div.sk-toggleable__content {max-height: 200px;max-width: 100%;overflow: auto;}#sk-container-id-1 input.sk-toggleable__control:checked~label.sk-toggleable__label-arrow:before {content: \"▾\";}#sk-container-id-1 div.sk-estimator input.sk-toggleable__control:checked~label.sk-toggleable__label {background-color: #d4ebff;}#sk-container-id-1 div.sk-label input.sk-toggleable__control:checked~label.sk-toggleable__label {background-color: #d4ebff;}#sk-container-id-1 input.sk-hidden--visually {border: 0;clip: rect(1px 1px 1px 1px);clip: rect(1px, 1px, 1px, 1px);height: 1px;margin: -1px;overflow: hidden;padding: 0;position: absolute;width: 1px;}#sk-container-id-1 div.sk-estimator {font-family: monospace;background-color: #f0f8ff;border: 1px dotted black;border-radius: 0.25em;box-sizing: border-box;margin-bottom: 0.5em;}#sk-container-id-1 div.sk-estimator:hover {background-color: #d4ebff;}#sk-container-id-1 div.sk-parallel-item::after {content: \"\";width: 100%;border-bottom: 1px solid gray;flex-grow: 1;}#sk-container-id-1 div.sk-label:hover label.sk-toggleable__label {background-color: #d4ebff;}#sk-container-id-1 div.sk-serial::before {content: \"\";position: absolute;border-left: 1px solid gray;box-sizing: border-box;top: 0;bottom: 0;left: 50%;z-index: 0;}#sk-container-id-1 div.sk-serial {display: flex;flex-direction: column;align-items: center;background-color: white;padding-right: 0.2em;padding-left: 0.2em;position: relative;}#sk-container-id-1 div.sk-item {position: relative;z-index: 1;}#sk-container-id-1 div.sk-parallel {display: flex;align-items: stretch;justify-content: center;background-color: white;position: relative;}#sk-container-id-1 div.sk-item::before, #sk-container-id-1 div.sk-parallel-item::before {content: \"\";position: absolute;border-left: 1px solid gray;box-sizing: border-box;top: 0;bottom: 0;left: 50%;z-index: -1;}#sk-container-id-1 div.sk-parallel-item {display: flex;flex-direction: column;z-index: 1;position: relative;background-color: white;}#sk-container-id-1 div.sk-parallel-item:first-child::after {align-self: flex-end;width: 50%;}#sk-container-id-1 div.sk-parallel-item:last-child::after {align-self: flex-start;width: 50%;}#sk-container-id-1 div.sk-parallel-item:only-child::after {width: 0;}#sk-container-id-1 div.sk-dashed-wrapped {border: 1px dashed gray;margin: 0 0.4em 0.5em 0.4em;box-sizing: border-box;padding-bottom: 0.4em;background-color: white;}#sk-container-id-1 div.sk-label label {font-family: monospace;font-weight: bold;display: inline-block;line-height: 1.2em;}#sk-container-id-1 div.sk-label-container {text-align: center;}#sk-container-id-1 div.sk-container {/* jupyter's `normalize.less` sets `[hidden] { display: none; }` but bootstrap.min.css set `[hidden] { display: none !important; }` so we also need the `!important` here to be able to override the default hidden behavior on the sphinx rendered scikit-learn.org. See: https://github.com/scikit-learn/scikit-learn/issues/21755 */display: inline-block !important;position: relative;}#sk-container-id-1 div.sk-text-repr-fallback {display: none;}</style><div id=\"sk-container-id-1\" class=\"sk-top-container\"><div class=\"sk-text-repr-fallback\"><pre>DecisionTreeClassifier(criterion=&#x27;entropy&#x27;, random_state=0)</pre><b>In a Jupyter environment, please rerun this cell to show the HTML representation or trust the notebook. <br />On GitHub, the HTML representation is unable to render, please try loading this page with nbviewer.org.</b></div><div class=\"sk-container\" hidden><div class=\"sk-item\"><div class=\"sk-estimator sk-toggleable\"><input class=\"sk-toggleable__control sk-hidden--visually\" id=\"sk-estimator-id-1\" type=\"checkbox\" checked><label for=\"sk-estimator-id-1\" class=\"sk-toggleable__label sk-toggleable__label-arrow\">DecisionTreeClassifier</label><div class=\"sk-toggleable__content\"><pre>DecisionTreeClassifier(criterion=&#x27;entropy&#x27;, random_state=0)</pre></div></div></div></div></div>"
      ],
      "text/plain": [
       "DecisionTreeClassifier(criterion='entropy', random_state=0)"
      ]
     },
     "execution_count": 11,
     "metadata": {},
     "output_type": "execute_result"
    }
   ],
   "source": [
    "from sklearn.tree import DecisionTreeClassifier\n",
    "dt=DecisionTreeClassifier(criterion=\"entropy\",random_state=0)\n",
    "dt.fit(x_train,y_train)"
   ]
  },
  {
   "cell_type": "code",
   "execution_count": 12,
   "id": "048f2159",
   "metadata": {},
   "outputs": [
    {
     "name": "stdout",
     "output_type": "stream",
     "text": [
      "['NEAR OCEAN' '<1H OCEAN' 'INLAND' ... '<1H OCEAN' 'INLAND' '<1H OCEAN']\n"
     ]
    }
   ],
   "source": [
    "y_pred=dt.predict(x_test)\n",
    "print(y_pred)"
   ]
  },
  {
   "cell_type": "code",
   "execution_count": 13,
   "id": "7be1ba49",
   "metadata": {},
   "outputs": [
    {
     "name": "stdout",
     "output_type": "stream",
     "text": [
      "[[2699   34    0    8   26]\n",
      " [  25 1949    0    0    1]\n",
      " [   0    0    3    0    0]\n",
      " [   2    0    0  656   10]\n",
      " [  29    0    0    5  745]]\n"
     ]
    }
   ],
   "source": [
    "from sklearn.metrics import confusion_matrix,accuracy_score\n",
    "cm=confusion_matrix(y_test,y_pred)\n",
    "print(cm)"
   ]
  },
  {
   "cell_type": "code",
   "execution_count": 14,
   "id": "680a5961",
   "metadata": {},
   "outputs": [
    {
     "data": {
      "image/png": "[encoded data removed]",
      "text/plain": [
       "<Figure size 600x600 with 1 Axes>"
      ]
     },
     "metadata": {},
     "output_type": "display_data"
    }
   ],
   "source": [
    "from mlxtend.plotting import plot_confusion_matrix\n",
    "fig,ax=plot_confusion_matrix(conf_mat=cm,figsize=(6,6),cmap=plt.cm.Blues)\n",
    "plt.xlabel('Predictions')\n",
    "plt.ylabel('Actuals')\n",
    "plt.title('Confusion Matrix')\n",
    "plt.show()"
   ]
  },
  {
   "cell_type": "code",
   "execution_count": 15,
   "id": "1050b62e",
   "metadata": {},
   "outputs": [
    {
     "name": "stdout",
     "output_type": "stream",
     "text": [
      "0.977390180878553\n"
     ]
    }
   ],
   "source": [
    "acc=accuracy_score(y_test,y_pred)\n",
    "print(acc)"
   ]
  },
  {
   "cell_type": "code",
   "execution_count": 16,
   "id": "5119a452",
   "metadata": {},
   "outputs": [
    {
     "name": "stdout",
     "output_type": "stream",
     "text": [
      "              precision    recall  f1-score   support\n",
      "\n",
      "   <1H OCEAN       0.98      0.98      0.98      2767\n",
      "      INLAND       0.98      0.99      0.98      1975\n",
      "      ISLAND       1.00      1.00      1.00         3\n",
      "    NEAR BAY       0.98      0.98      0.98       668\n",
      "  NEAR OCEAN       0.95      0.96      0.95       779\n",
      "\n",
      "    accuracy                           0.98      6192\n",
      "   macro avg       0.98      0.98      0.98      6192\n",
      "weighted avg       0.98      0.98      0.98      6192\n",
      "\n"
     ]
    }
   ],
   "source": [
    "import sklearn.metrics as metrics\n",
    "print(metrics.classification_report(y_test,y_pred))"
   ]
  },
  {
   "cell_type": "code",
   "execution_count": 17,
   "id": "0eeabbd8",
   "metadata": {},
   "outputs": [],
   "source": [
    "new=pd.DataFrame([[-118.31,34.28,34.0,3258.0,610.0,1810.0,633.0,5.1145,219900.0]])"
   ]
  },
  {
   "cell_type": "code",
   "execution_count": 18,
   "id": "ee119906",
   "metadata": {
    "scrolled": true
   },
   "outputs": [
    {
     "name": "stdout",
     "output_type": "stream",
     "text": [
      "['<1H OCEAN']\n"
     ]
    },
    {
     "name": "stderr",
     "output_type": "stream",
     "text": [
      "C:\\Users\\guna5\\AppData\\Local\\Programs\\Python\\Python310\\lib\\site-packages\\sklearn\\base.py:439: UserWarning: X does not have valid feature names, but DecisionTreeClassifier was fitted with feature names\n",
      "  warnings.warn(\n"
     ]
    }
   ],
   "source": [
    "print(dt.predict(new))"
   ]
  },
  {
   "cell_type": "code",
   "execution_count": null,
   "id": "927c33d7",
   "metadata": {},
   "outputs": [],
   "source": []
  }
 ],
 "metadata": {
  "kernelspec": {
   "display_name": "Python 3 (ipykernel)",
   "language": "python",
   "name": "python3"
  },
  "language_info": {
   "codemirror_mode": {
    "name": "ipython",
    "version": 3
   },
   "file_extension": ".py",
   "mimetype": "text/x-python",
   "name": "python",
   "nbconvert_exporter": "python",
   "pygments_lexer": "ipython3",
   "version": "3.10.5"
  }
 },
 "nbformat": 4,
 "nbformat_minor": 5
}
