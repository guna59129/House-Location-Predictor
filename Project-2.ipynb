{
 "cells": [
  {
   "cell_type": "code",
   "execution_count": 1,
   "id": "b95e0220",
   "metadata": {},
   "outputs": [],
   "source": [
    "import numpy as np\n",
    "import pandas as pd\n",
    "import matplotlib.pyplot as plt\n",
    "import sklearn"
   ]
  },
  {
   "cell_type": "code",
   "execution_count": 2,
   "id": "008b8294",
   "metadata": {},
   "outputs": [],
   "source": [
    "ds=pd.read_csv(r\"C:\\Users\\guna5\\Downloads\\Crop_recommendation.csv\")"
   ]
  },
  {
   "cell_type": "code",
   "execution_count": 3,
   "id": "7dd738ed",
   "metadata": {},
   "outputs": [
    {
     "name": "stdout",
     "output_type": "stream",
     "text": [
      "   Nitrogen  phosphorus  potassium  temperature   humidity        ph  \\\n",
      "0        90          42         43    20.879744  82.002744  6.502985   \n",
      "1        85          58         41    21.770462  80.319644  7.038096   \n",
      "2        60          55         44    23.004459  82.320763  7.840207   \n",
      "3        74          35         40    26.491096  80.158363  6.980401   \n",
      "4        78          42         42    20.130175  81.604873  7.628473   \n",
      "\n",
      "     rainfall label  Unnamed: 8  Unnamed: 9  \n",
      "0  202.935536  rice         NaN         NaN  \n",
      "1  226.655537  rice         NaN         NaN  \n",
      "2  263.964248  rice         NaN         NaN  \n",
      "3  242.864034  rice         NaN         NaN  \n",
      "4  262.717340  rice         NaN         NaN  \n"
     ]
    }
   ],
   "source": [
    "df=pd.DataFrame(ds)\n",
    "print(df.head())"
   ]
  },
  {
   "cell_type": "code",
   "execution_count": 4,
   "id": "196364b3",
   "metadata": {},
   "outputs": [
    {
     "name": "stdout",
     "output_type": "stream",
     "text": [
      "(2200, 10)\n"
     ]
    }
   ],
   "source": [
    "print(df.shape)"
   ]
  },
  {
   "cell_type": "code",
   "execution_count": 5,
   "id": "6b193c2a",
   "metadata": {},
   "outputs": [],
   "source": [
    "columns_to_drop=[\"Unnamed: 8\",\"Unnamed: 9\"]\n",
    "df=df.drop(columns=columns_to_drop)"
   ]
  },
  {
   "cell_type": "code",
   "execution_count": 6,
   "id": "a3efbe06",
   "metadata": {},
   "outputs": [
    {
     "name": "stdout",
     "output_type": "stream",
     "text": [
      "   Nitrogen  phosphorus  potassium  temperature   humidity        ph  \\\n",
      "0        90          42         43    20.879744  82.002744  6.502985   \n",
      "1        85          58         41    21.770462  80.319644  7.038096   \n",
      "2        60          55         44    23.004459  82.320763  7.840207   \n",
      "3        74          35         40    26.491096  80.158363  6.980401   \n",
      "4        78          42         42    20.130175  81.604873  7.628473   \n",
      "\n",
      "     rainfall label  \n",
      "0  202.935536  rice  \n",
      "1  226.655537  rice  \n",
      "2  263.964248  rice  \n",
      "3  242.864034  rice  \n",
      "4  262.717340  rice  \n"
     ]
    }
   ],
   "source": [
    "print(df.head())"
   ]
  },
  {
   "cell_type": "code",
   "execution_count": 10,
   "id": "e7135ab1",
   "metadata": {},
   "outputs": [
    {
     "name": "stdout",
     "output_type": "stream",
     "text": [
      "INDEPENDENT VARIABLES\n",
      "   Nitrogen  phosphorus  potassium  temperature   humidity        ph  \\\n",
      "0        90          42         43    20.879744  82.002744  6.502985   \n",
      "1        85          58         41    21.770462  80.319644  7.038096   \n",
      "2        60          55         44    23.004459  82.320763  7.840207   \n",
      "3        74          35         40    26.491096  80.158363  6.980401   \n",
      "4        78          42         42    20.130175  81.604873  7.628473   \n",
      "\n",
      "     rainfall  \n",
      "0  202.935536  \n",
      "1  226.655537  \n",
      "2  263.964248  \n",
      "3  242.864034  \n",
      "4  262.717340  \n",
      "DEPENDENT VARIABLE\n",
      "0    rice\n",
      "1    rice\n",
      "2    rice\n",
      "3    rice\n",
      "4    rice\n",
      "Name: label, dtype: object\n"
     ]
    }
   ],
   "source": [
    "x=df.iloc[:,:-1]\n",
    "y=df.iloc[:,-1]\n",
    "print(\"INDEPENDENT VARIABLES\")\n",
    "print(x.head())\n",
    "print(\"DEPENDENT VARIABLE\")\n",
    "print(y.head())"
   ]
  },
  {
   "cell_type": "code",
   "execution_count": 11,
   "id": "85e50743",
   "metadata": {},
   "outputs": [
    {
     "name": "stdout",
     "output_type": "stream",
     "text": [
      "<class 'pandas.core.frame.DataFrame'>\n",
      "RangeIndex: 2200 entries, 0 to 2199\n",
      "Data columns (total 8 columns):\n",
      " #   Column       Non-Null Count  Dtype  \n",
      "---  ------       --------------  -----  \n",
      " 0   Nitrogen     2200 non-null   int64  \n",
      " 1   phosphorus   2200 non-null   int64  \n",
      " 2   potassium    2200 non-null   int64  \n",
      " 3   temperature  2200 non-null   float64\n",
      " 4   humidity     2200 non-null   float64\n",
      " 5   ph           2200 non-null   float64\n",
      " 6   rainfall     2200 non-null   float64\n",
      " 7   label        2200 non-null   object \n",
      "dtypes: float64(4), int64(3), object(1)\n",
      "memory usage: 137.6+ KB\n",
      "None\n"
     ]
    }
   ],
   "source": [
    "print(df.info())"
   ]
  },
  {
   "cell_type": "code",
   "execution_count": 15,
   "id": "1d299961",
   "metadata": {},
   "outputs": [
    {
     "name": "stdout",
     "output_type": "stream",
     "text": [
      "[20 11  3  9 18 13 14  2 10 19  1 12  7 21 15  0 16 17  4  6  8  5]\n"
     ]
    }
   ],
   "source": [
    "from sklearn.preprocessing import LabelEncoder\n",
    "le=LabelEncoder()\n",
    "df['label']=le.fit_transform(df['label'])\n",
    "print(df['label'].unique())"
   ]
  },
  {
   "cell_type": "code",
   "execution_count": 17,
   "id": "fd6afc3a",
   "metadata": {},
   "outputs": [
    {
     "name": "stdout",
     "output_type": "stream",
     "text": [
      "(1760, 7)\n",
      "(440, 7)\n",
      "(1760,)\n",
      "(440,)\n"
     ]
    }
   ],
   "source": [
    "from sklearn.model_selection import train_test_split\n",
    "x_train,x_test,y_train,y_test=train_test_split(x,y,test_size=0.3,random_state=0)\n",
    "print(x_train.shape)\n",
    "print(x_test.shape)\n",
    "print(y_train.shape)\n",
    "print(y_test.shape)"
   ]
  },
  {
   "cell_type": "code",
   "execution_count": 19,
   "id": "0be9f1d4",
   "metadata": {},
   "outputs": [
    {
     "data": {
      "text/html": [
       "<style>#sk-container-id-1 {color: black;background-color: white;}#sk-container-id-1 pre{padding: 0;}#sk-container-id-1 div.sk-toggleable {background-color: white;}#sk-container-id-1 label.sk-toggleable__label {cursor: pointer;display: block;width: 100%;margin-bottom: 0;padding: 0.3em;box-sizing: border-box;text-align: center;}#sk-container-id-1 label.sk-toggleable__label-arrow:before {content: \"▸\";float: left;margin-right: 0.25em;color: #696969;}#sk-container-id-1 label.sk-toggleable__label-arrow:hover:before {color: black;}#sk-container-id-1 div.sk-estimator:hover label.sk-toggleable__label-arrow:before {color: black;}#sk-container-id-1 div.sk-toggleable__content {max-height: 0;max-width: 0;overflow: hidden;text-align: left;background-color: #f0f8ff;}#sk-container-id-1 div.sk-toggleable__content pre {margin: 0.2em;color: black;border-radius: 0.25em;background-color: #f0f8ff;}#sk-container-id-1 input.sk-toggleable__control:checked~div.sk-toggleable__content {max-height: 200px;max-width: 100%;overflow: auto;}#sk-container-id-1 input.sk-toggleable__control:checked~label.sk-toggleable__label-arrow:before {content: \"▾\";}#sk-container-id-1 div.sk-estimator input.sk-toggleable__control:checked~label.sk-toggleable__label {background-color: #d4ebff;}#sk-container-id-1 div.sk-label input.sk-toggleable__control:checked~label.sk-toggleable__label {background-color: #d4ebff;}#sk-container-id-1 input.sk-hidden--visually {border: 0;clip: rect(1px 1px 1px 1px);clip: rect(1px, 1px, 1px, 1px);height: 1px;margin: -1px;overflow: hidden;padding: 0;position: absolute;width: 1px;}#sk-container-id-1 div.sk-estimator {font-family: monospace;background-color: #f0f8ff;border: 1px dotted black;border-radius: 0.25em;box-sizing: border-box;margin-bottom: 0.5em;}#sk-container-id-1 div.sk-estimator:hover {background-color: #d4ebff;}#sk-container-id-1 div.sk-parallel-item::after {content: \"\";width: 100%;border-bottom: 1px solid gray;flex-grow: 1;}#sk-container-id-1 div.sk-label:hover label.sk-toggleable__label {background-color: #d4ebff;}#sk-container-id-1 div.sk-serial::before {content: \"\";position: absolute;border-left: 1px solid gray;box-sizing: border-box;top: 0;bottom: 0;left: 50%;z-index: 0;}#sk-container-id-1 div.sk-serial {display: flex;flex-direction: column;align-items: center;background-color: white;padding-right: 0.2em;padding-left: 0.2em;position: relative;}#sk-container-id-1 div.sk-item {position: relative;z-index: 1;}#sk-container-id-1 div.sk-parallel {display: flex;align-items: stretch;justify-content: center;background-color: white;position: relative;}#sk-container-id-1 div.sk-item::before, #sk-container-id-1 div.sk-parallel-item::before {content: \"\";position: absolute;border-left: 1px solid gray;box-sizing: border-box;top: 0;bottom: 0;left: 50%;z-index: -1;}#sk-container-id-1 div.sk-parallel-item {display: flex;flex-direction: column;z-index: 1;position: relative;background-color: white;}#sk-container-id-1 div.sk-parallel-item:first-child::after {align-self: flex-end;width: 50%;}#sk-container-id-1 div.sk-parallel-item:last-child::after {align-self: flex-start;width: 50%;}#sk-container-id-1 div.sk-parallel-item:only-child::after {width: 0;}#sk-container-id-1 div.sk-dashed-wrapped {border: 1px dashed gray;margin: 0 0.4em 0.5em 0.4em;box-sizing: border-box;padding-bottom: 0.4em;background-color: white;}#sk-container-id-1 div.sk-label label {font-family: monospace;font-weight: bold;display: inline-block;line-height: 1.2em;}#sk-container-id-1 div.sk-label-container {text-align: center;}#sk-container-id-1 div.sk-container {/* jupyter's `normalize.less` sets `[hidden] { display: none; }` but bootstrap.min.css set `[hidden] { display: none !important; }` so we also need the `!important` here to be able to override the default hidden behavior on the sphinx rendered scikit-learn.org. See: https://github.com/scikit-learn/scikit-learn/issues/21755 */display: inline-block !important;position: relative;}#sk-container-id-1 div.sk-text-repr-fallback {display: none;}</style><div id=\"sk-container-id-1\" class=\"sk-top-container\"><div class=\"sk-text-repr-fallback\"><pre>RandomForestClassifier()</pre><b>In a Jupyter environment, please rerun this cell to show the HTML representation or trust the notebook. <br />On GitHub, the HTML representation is unable to render, please try loading this page with nbviewer.org.</b></div><div class=\"sk-container\" hidden><div class=\"sk-item\"><div class=\"sk-estimator sk-toggleable\"><input class=\"sk-toggleable__control sk-hidden--visually\" id=\"sk-estimator-id-1\" type=\"checkbox\" checked><label for=\"sk-estimator-id-1\" class=\"sk-toggleable__label sk-toggleable__label-arrow\">RandomForestClassifier</label><div class=\"sk-toggleable__content\"><pre>RandomForestClassifier()</pre></div></div></div></div></div>"
      ],
      "text/plain": [
       "RandomForestClassifier()"
      ]
     },
     "execution_count": 19,
     "metadata": {},
     "output_type": "execute_result"
    }
   ],
   "source": [
    "from sklearn.ensemble import RandomForestClassifier\n",
    "rfc=RandomForestClassifier()\n",
    "rfc.fit(x_train,y_train)"
   ]
  },
  {
   "cell_type": "code",
   "execution_count": 20,
   "id": "fa8869b8",
   "metadata": {},
   "outputs": [
    {
     "name": "stdout",
     "output_type": "stream",
     "text": [
      "['watermelon' 'watermelon' 'grapes' 'chickpea' 'blackgram' 'rice'\n",
      " 'mothbeans' 'kidneybeans' 'muskmelon' 'banana' 'mothbeans' 'coffee'\n",
      " 'lentil' 'mungbean' 'mango' 'apple' 'coffee' 'lentil' 'coffee' 'mango'\n",
      " 'coconut' 'blackgram' 'kidneybeans' 'jute' 'cotton' 'coffee' 'lentil'\n",
      " 'orange' 'mothbeans' 'kidneybeans' 'pomegranate' 'rice' 'maize'\n",
      " 'muskmelon' 'coconut' 'cotton' 'mango' 'mango' 'watermelon' 'mothbeans'\n",
      " 'maize' 'blackgram' 'pigeonpeas' 'watermelon' 'pigeonpeas' 'mungbean'\n",
      " 'kidneybeans' 'kidneybeans' 'cotton' 'mungbean' 'mothbeans' 'blackgram'\n",
      " 'apple' 'muskmelon' 'pigeonpeas' 'banana' 'papaya' 'mango' 'lentil'\n",
      " 'cotton' 'orange' 'mungbean' 'watermelon' 'rice' 'muskmelon' 'apple'\n",
      " 'grapes' 'coffee' 'apple' 'orange' 'coconut' 'pomegranate' 'kidneybeans'\n",
      " 'maize' 'grapes' 'mothbeans' 'chickpea' 'maize' 'jute' 'mango' 'rice'\n",
      " 'blackgram' 'watermelon' 'watermelon' 'muskmelon' 'cotton' 'maize'\n",
      " 'lentil' 'mothbeans' 'papaya' 'blackgram' 'jute' 'mungbean' 'grapes'\n",
      " 'mungbean' 'maize' 'coffee' 'jute' 'lentil' 'chickpea' 'orange' 'jute'\n",
      " 'mungbean' 'banana' 'banana' 'rice' 'watermelon' 'coffee' 'pigeonpeas'\n",
      " 'muskmelon' 'muskmelon' 'mango' 'coffee' 'grapes' 'orange' 'pomegranate'\n",
      " 'mungbean' 'lentil' 'maize' 'jute' 'pomegranate' 'lentil' 'orange'\n",
      " 'chickpea' 'chickpea' 'blackgram' 'pomegranate' 'orange' 'chickpea'\n",
      " 'papaya' 'mothbeans' 'mothbeans' 'muskmelon' 'mungbean' 'maize'\n",
      " 'mungbean' 'coconut' 'pomegranate' 'orange' 'blackgram' 'blackgram'\n",
      " 'grapes' 'apple' 'coffee' 'chickpea' 'apple' 'jute' 'mango' 'watermelon'\n",
      " 'papaya' 'orange' 'coconut' 'mothbeans' 'banana' 'pomegranate' 'chickpea'\n",
      " 'watermelon' 'blackgram' 'apple' 'jute' 'lentil' 'pigeonpeas' 'jute'\n",
      " 'kidneybeans' 'kidneybeans' 'muskmelon' 'rice' 'muskmelon' 'banana'\n",
      " 'orange' 'pigeonpeas' 'apple' 'mothbeans' 'coconut' 'cotton' 'mungbean'\n",
      " 'kidneybeans' 'pomegranate' 'papaya' 'orange' 'rice' 'papaya' 'papaya'\n",
      " 'pigeonpeas' 'kidneybeans' 'banana' 'coconut' 'pigeonpeas' 'rice'\n",
      " 'papaya' 'maize' 'jute' 'mothbeans' 'rice' 'maize' 'coffee' 'pigeonpeas'\n",
      " 'coconut' 'chickpea' 'mango' 'coconut' 'pomegranate' 'maize' 'mothbeans'\n",
      " 'mothbeans' 'orange' 'muskmelon' 'maize' 'pigeonpeas' 'banana' 'chickpea'\n",
      " 'blackgram' 'pigeonpeas' 'orange' 'mothbeans' 'mungbean' 'mango' 'papaya'\n",
      " 'muskmelon' 'pomegranate' 'jute' 'rice' 'blackgram' 'papaya' 'blackgram'\n",
      " 'coffee' 'maize' 'coffee' 'orange' 'rice' 'mothbeans' 'mungbean' 'orange'\n",
      " 'kidneybeans' 'pomegranate' 'coconut' 'mango' 'mungbean' 'cotton' 'rice'\n",
      " 'chickpea' 'mungbean' 'apple' 'pigeonpeas' 'blackgram' 'rice'\n",
      " 'watermelon' 'blackgram' 'pomegranate' 'orange' 'maize' 'grapes'\n",
      " 'chickpea' 'pigeonpeas' 'jute' 'papaya' 'pomegranate' 'coffee' 'mango'\n",
      " 'mothbeans' 'jute' 'watermelon' 'pomegranate' 'rice' 'grapes' 'coconut'\n",
      " 'jute' 'lentil' 'chickpea' 'coffee' 'coffee' 'papaya' 'pomegranate'\n",
      " 'maize' 'rice' 'chickpea' 'pigeonpeas' 'orange' 'pomegranate'\n",
      " 'pigeonpeas' 'coconut' 'kidneybeans' 'pomegranate' 'muskmelon'\n",
      " 'mothbeans' 'mango' 'lentil' 'banana' 'blackgram' 'mango' 'kidneybeans'\n",
      " 'mango' 'cotton' 'mungbean' 'papaya' 'grapes' 'grapes' 'pigeonpeas'\n",
      " 'papaya' 'jute' 'rice' 'chickpea' 'muskmelon' 'coffee' 'watermelon'\n",
      " 'rice' 'jute' 'papaya' 'grapes' 'muskmelon' 'blackgram' 'mothbeans'\n",
      " 'mothbeans' 'chickpea' 'blackgram' 'mango' 'banana' 'mango' 'pomegranate'\n",
      " 'jute' 'orange' 'muskmelon' 'chickpea' 'lentil' 'cotton' 'papaya'\n",
      " 'grapes' 'kidneybeans' 'lentil' 'apple' 'rice' 'muskmelon' 'apple'\n",
      " 'papaya' 'blackgram' 'jute' 'chickpea' 'mothbeans' 'lentil' 'grapes'\n",
      " 'jute' 'kidneybeans' 'muskmelon' 'papaya' 'grapes' 'papaya' 'rice'\n",
      " 'coffee' 'muskmelon' 'mothbeans' 'banana' 'papaya' 'orange' 'kidneybeans'\n",
      " 'watermelon' 'pigeonpeas' 'apple' 'watermelon' 'watermelon' 'pigeonpeas'\n",
      " 'kidneybeans' 'mothbeans' 'kidneybeans' 'jute' 'coconut' 'cotton'\n",
      " 'kidneybeans' 'orange' 'cotton' 'pigeonpeas' 'pomegranate' 'cotton'\n",
      " 'cotton' 'apple' 'cotton' 'apple' 'orange' 'maize' 'grapes' 'banana'\n",
      " 'apple' 'mothbeans' 'rice' 'kidneybeans' 'banana' 'rice' 'lentil'\n",
      " 'chickpea' 'pomegranate' 'banana' 'chickpea' 'muskmelon' 'pomegranate'\n",
      " 'apple' 'lentil' 'muskmelon' 'orange' 'blackgram' 'muskmelon' 'mothbeans'\n",
      " 'mango' 'chickpea' 'pomegranate' 'mango' 'chickpea' 'coconut' 'muskmelon'\n",
      " 'banana' 'pigeonpeas' 'papaya' 'jute' 'lentil' 'cotton' 'rice' 'banana'\n",
      " 'coconut' 'rice' 'blackgram' 'maize' 'orange' 'watermelon' 'rice' 'apple'\n",
      " 'grapes' 'pigeonpeas' 'grapes' 'chickpea' 'mango' 'jute' 'pomegranate'\n",
      " 'maize' 'mango' 'grapes' 'banana' 'mungbean' 'pigeonpeas' 'banana'\n",
      " 'cotton' 'blackgram' 'apple']\n"
     ]
    }
   ],
   "source": [
    "y_pred=rfc.predict(x_test)\n",
    "print(y_pred)"
   ]
  },
  {
   "cell_type": "code",
   "execution_count": 21,
   "id": "e427eda9",
   "metadata": {},
   "outputs": [
    {
     "name": "stdout",
     "output_type": "stream",
     "text": [
      "[[18  0  0  0  0  0  0  0  0  0  0  0  0  0  0  0  0  0  0  0  0  0]\n",
      " [ 0 18  0  0  0  0  0  0  0  0  0  0  0  0  0  0  0  0  0  0  0  0]\n",
      " [ 0  0 22  0  0  0  0  0  0  0  0  0  0  0  0  0  0  0  0  0  0  0]\n",
      " [ 0  0  0 23  0  0  0  0  0  0  0  0  0  0  0  0  0  0  0  0  0  0]\n",
      " [ 0  0  0  0 15  0  0  0  0  0  0  0  0  0  0  0  0  0  0  0  0  0]\n",
      " [ 0  0  0  0  0 17  0  0  0  0  0  0  0  0  0  0  0  0  0  0  0  0]\n",
      " [ 0  0  0  0  0  0 16  0  0  0  0  0  0  0  0  0  0  0  0  0  0  0]\n",
      " [ 0  0  0  0  0  0  0 18  0  0  0  0  0  0  0  0  0  0  0  0  0  0]\n",
      " [ 0  0  0  0  0  0  0  0 21  0  0  0  0  0  0  0  0  0  0  0  0  0]\n",
      " [ 0  0  0  0  0  0  0  0  0 20  0  0  0  0  0  0  0  0  0  0  0  0]\n",
      " [ 0  0  0  0  0  0  0  0  0  0 17  0  0  0  0  0  0  0  0  0  0  0]\n",
      " [ 0  0  0  0  0  0  0  0  0  0  0 18  0  0  0  0  0  0  0  0  0  0]\n",
      " [ 0  0  0  0  0  0  0  0  0  0  0  0 21  0  0  0  0  0  0  0  0  0]\n",
      " [ 0  0  0  0  0  0  0  0  0  0  0  0  0 25  0  0  0  0  0  0  0  0]\n",
      " [ 0  0  0  0  0  0  0  0  0  0  0  0  0  0 17  0  0  0  0  0  0  0]\n",
      " [ 0  0  0  0  0  0  0  0  0  0  0  0  0  0  0 23  0  0  0  0  0  0]\n",
      " [ 0  0  0  0  0  0  0  0  0  0  0  0  0  0  0  0 23  0  0  0  0  0]\n",
      " [ 0  0  0  0  0  0  0  0  0  0  0  0  0  0  0  0  0 21  0  0  0  0]\n",
      " [ 0  0  0  0  0  0  0  0  0  0  0  0  0  0  0  0  0  0 22  0  0  0]\n",
      " [ 0  0  0  0  0  0  0  0  0  0  0  0  0  0  0  0  0  0  0 23  0  0]\n",
      " [ 0  0  0  0  0  0  0  0  1  0  0  0  0  0  0  0  0  0  0  0 24  0]\n",
      " [ 0  0  0  0  0  0  0  0  0  0  0  0  0  0  0  0  0  0  0  0  0 17]]\n"
     ]
    }
   ],
   "source": [
    "from sklearn.metrics import confusion_matrix,accuracy_score\n",
    "cm=confusion_matrix(y_test,y_pred)\n",
    "print(cm)"
   ]
  },
  {
   "cell_type": "code",
   "execution_count": 22,
   "id": "f7a1f7da",
   "metadata": {},
   "outputs": [
    {
     "data": {
      "image/png": "[encoded data removed]",
      "text/plain": [
       "<Figure size 600x600 with 1 Axes>"
      ]
     },
     "metadata": {},
     "output_type": "display_data"
    }
   ],
   "source": [
    "from mlxtend.plotting import plot_confusion_matrix\n",
    "fig,ax=plot_confusion_matrix(conf_mat=cm,figsize=(6,6),cmap=plt.cm.Blues)\n",
    "plt.xlabel(\"Actual Values\")\n",
    "plt.ylabel(\"Predicted Values\")\n",
    "plt.title(\"Confusion Matrix\")\n",
    "plt.show()"
   ]
  },
  {
   "cell_type": "code",
   "execution_count": 23,
   "id": "9dcb3611",
   "metadata": {},
   "outputs": [
    {
     "name": "stdout",
     "output_type": "stream",
     "text": [
      "0.9977272727272727\n"
     ]
    }
   ],
   "source": [
    "acc=accuracy_score(y_test,y_pred)\n",
    "print(acc)"
   ]
  },
  {
   "cell_type": "code",
   "execution_count": 24,
   "id": "8598087d",
   "metadata": {},
   "outputs": [
    {
     "name": "stdout",
     "output_type": "stream",
     "text": [
      "              precision    recall  f1-score   support\n",
      "\n",
      "       apple       1.00      1.00      1.00        18\n",
      "      banana       1.00      1.00      1.00        18\n",
      "   blackgram       1.00      1.00      1.00        22\n",
      "    chickpea       1.00      1.00      1.00        23\n",
      "     coconut       1.00      1.00      1.00        15\n",
      "      coffee       1.00      1.00      1.00        17\n",
      "      cotton       1.00      1.00      1.00        16\n",
      "      grapes       1.00      1.00      1.00        18\n",
      "        jute       0.95      1.00      0.98        21\n",
      " kidneybeans       1.00      1.00      1.00        20\n",
      "      lentil       1.00      1.00      1.00        17\n",
      "       maize       1.00      1.00      1.00        18\n",
      "       mango       1.00      1.00      1.00        21\n",
      "   mothbeans       1.00      1.00      1.00        25\n",
      "    mungbean       1.00      1.00      1.00        17\n",
      "   muskmelon       1.00      1.00      1.00        23\n",
      "      orange       1.00      1.00      1.00        23\n",
      "      papaya       1.00      1.00      1.00        21\n",
      "  pigeonpeas       1.00      1.00      1.00        22\n",
      " pomegranate       1.00      1.00      1.00        23\n",
      "        rice       1.00      0.96      0.98        25\n",
      "  watermelon       1.00      1.00      1.00        17\n",
      "\n",
      "    accuracy                           1.00       440\n",
      "   macro avg       1.00      1.00      1.00       440\n",
      "weighted avg       1.00      1.00      1.00       440\n",
      "\n"
     ]
    }
   ],
   "source": [
    "from sklearn.metrics import classification_report\n",
    "cr=classification_report(y_test,y_pred)\n",
    "print(cr)"
   ]
  },
  {
   "cell_type": "code",
   "execution_count": 27,
   "id": "3dcb5587",
   "metadata": {},
   "outputs": [
    {
     "name": "stdout",
     "output_type": "stream",
     "text": [
      "['chickpea']\n"
     ]
    },
    {
     "name": "stderr",
     "output_type": "stream",
     "text": [
      "C:\\Users\\guna5\\AppData\\Local\\Programs\\Python\\Python310\\lib\\site-packages\\sklearn\\base.py:439: UserWarning: X does not have valid feature names, but RandomForestClassifier was fitted with feature names\n",
      "  warnings.warn(\n"
     ]
    }
   ],
   "source": [
    "arr=[[22.4,116.2,69.420,19.23,19.58,19.28,19.57]]\n",
    "print(rfc.predict(arr))"
   ]
  }
 ],
 "metadata": {
  "kernelspec": {
   "display_name": "Python 3 (ipykernel)",
   "language": "python",
   "name": "python3"
  },
  "language_info": {
   "codemirror_mode": {
    "name": "ipython",
    "version": 3
   },
   "file_extension": ".py",
   "mimetype": "text/x-python",
   "name": "python",
   "nbconvert_exporter": "python",
   "pygments_lexer": "ipython3",
   "version": "3.10.5"
  }
 },
 "nbformat": 4,
 "nbformat_minor": 5
}
